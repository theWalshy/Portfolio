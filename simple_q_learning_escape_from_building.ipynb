{
 "cells": [
  {
   "cell_type": "markdown",
   "metadata": {},
   "source": [
    "# Simple Q-Learning Example\n",
    "\n",
    "How do I teach a robot to escape a burning building? \n",
    "Implementing this example: http://mnemstudio.org/path-finding-q-learning-tutorial.htm"
   ]
  },
  {
   "cell_type": "code",
   "execution_count": 8,
   "metadata": {
    "ExecuteTime": {
     "end_time": "2018-01-03T18:15:40.592372Z",
     "start_time": "2018-01-03T18:15:40.584886Z"
    },
    "collapsed": true
   },
   "outputs": [],
   "source": [
    "import numpy as np\n",
    "import matplotlib.pyplot as plt\n",
    "%matplotlib inline\n",
    "plt.style.use('seaborn')"
   ]
  },
  {
   "cell_type": "code",
   "execution_count": 2,
   "metadata": {
    "ExecuteTime": {
     "end_time": "2018-01-02T21:17:17.564236Z",
     "start_time": "2018-01-02T21:17:17.555686Z"
    }
   },
   "outputs": [
    {
     "name": "stdout",
     "output_type": "stream",
     "text": [
      "Python Version: 3.6.2 |Anaconda custom (64-bit)| (default, Sep 21 2017, 18:29:43) \n",
      "[GCC 4.2.1 Compatible Clang 4.0.1 (tags/RELEASE_401/final)] \n",
      "\n",
      "Matplotlib Version: 2.0.2\n",
      "Numpy Version: 1.12.1\n"
     ]
    }
   ],
   "source": [
    "import sys\n",
    "import matplotlib\n",
    "libraries = (('Matplotlib', matplotlib), ('Numpy', np))\n",
    "\n",
    "print(\"Python Version:\", sys.version, '\\n')\n",
    "for lib in libraries:\n",
    "    print('{0} Version: {1}'.format(lib[0], lib[1].__version__))"
   ]
  },
  {
   "cell_type": "markdown",
   "metadata": {},
   "source": [
    "Let's start by taking a look at the house we're trying to escape.\n",
    "\n",
    "<img src=\"http://mnemstudio.org/ai/path/images/modeling_environment_clip_image002a.gif\">\n",
    "\n",
    "So, state 5 is where we need to end up. To do that, we want to create a reward matrix. Which tells us when we've taken a good or a bad action.\n",
    "\n",
    "> -1 = impossible action\n",
    "\n",
    "> 0 = possible action that doesn't directly lead outside\n",
    "\n",
    "> 100 = made it outside"
   ]
  },
  {
   "cell_type": "markdown",
   "metadata": {},
   "source": [
    "Let's set some basic inputs for the whole system."
   ]
  },
  {
   "cell_type": "code",
   "execution_count": 9,
   "metadata": {
    "ExecuteTime": {
     "end_time": "2018-01-03T18:15:43.086905Z",
     "start_time": "2018-01-03T18:15:43.075240Z"
    }
   },
   "outputs": [
    {
     "data": {
      "text/plain": [
       "array([[ -1,  -1,  -1,  -1,   0,  -1],\n",
       "       [ -1,  -1,  -1,   0,  -1, 100],\n",
       "       [ -1,  -1,  -1,   0,  -1,  -1],\n",
       "       [ -1,   0,   0,  -1,   0,  -1],\n",
       "       [  0,  -1,  -1,   0,  -1, 100],\n",
       "       [ -1,   0,  -1,  -1,   0, 100]])"
      ]
     },
     "execution_count": 9,
     "metadata": {},
     "output_type": "execute_result"
    }
   ],
   "source": [
    "reward = np.array([[-1, -1, -1, -1, 0, -1],\n",
    "                   [-1, -1, -1, 0, -1, 100],\n",
    "                   [-1, -1, -1, 0, -1, -1],\n",
    "                   [-1, 0, 0, -1, 0, -1],\n",
    "                   [0, -1, -1, 0, -1, 100],\n",
    "                   [-1, 0, -1, -1, 0, 100]])\n",
    "q_matrix = np.zeros((6,6)) # This functions as the brain for our robot - what it learns is in these rewards\n",
    "future_rewards = 0.5\n",
    "reward"
   ]
  },
  {
   "cell_type": "code",
   "execution_count": 10,
   "metadata": {
    "ExecuteTime": {
     "end_time": "2018-01-03T18:15:43.466785Z",
     "start_time": "2018-01-03T18:15:43.460608Z"
    },
    "collapsed": true
   },
   "outputs": [],
   "source": [
    "def update_robot_brain(q_matrix, future_rewards, current_state, next_state):\n",
    "    \"\"\"\n",
    "    Updates the learned matrix, Q with a simple rule:\n",
    "    Q[i,j] = Reward[i,j] + future_reward_weight*max(Q[i])\n",
    "    \n",
    "    Basically, what is my reward plus what do I already know this \n",
    "    step can lead to in terms of reward.\n",
    "    \"\"\"\n",
    "    q_matrix[current_state, next_state] = reward[current_state, next_state] + future_rewards*np.max(q_matrix[next_state])\n",
    "    return q_matrix"
   ]
  },
  {
   "cell_type": "code",
   "execution_count": 11,
   "metadata": {
    "ExecuteTime": {
     "end_time": "2018-01-03T18:15:43.920812Z",
     "start_time": "2018-01-03T18:15:43.872744Z"
    }
   },
   "outputs": [
    {
     "name": "stdout",
     "output_type": "stream",
     "text": [
      "[3]\n",
      "[1 2 4]\n",
      "[3]\n",
      "[1 2 4]\n",
      "[3 5]\n",
      "---\n",
      "[3]\n",
      "[1 2 4]\n",
      "[3 5]\n",
      "[1 2 4]\n",
      "[0 3 5]\n",
      "[1 2 4]\n",
      "[0 3 5]\n",
      "[1 2 4]\n",
      "[3]\n",
      "[1 2 4]\n",
      "[3 5]\n",
      "[1 2 4]\n",
      "[3]\n",
      "[1 2 4]\n",
      "[3 5]\n"
     ]
    },
    {
     "data": {
      "text/plain": [
       "array([[   0. ,    0. ,    0. ,    0. ,    0. ,    0. ],\n",
       "       [   0. ,    0. ,    0. ,   25. ,    0. ,  100. ],\n",
       "       [   0. ,    0. ,    0. ,   25. ,    0. ,    0. ],\n",
       "       [   0. ,   50. ,   12.5,    0. ,   12.5,    0. ],\n",
       "       [   0. ,    0. ,    0. ,   25. ,    0. ,    0. ],\n",
       "       [   0. ,    0. ,    0. ,    0. ,    0. ,    0. ]])"
      ]
     },
     "execution_count": 11,
     "metadata": {},
     "output_type": "execute_result"
    }
   ],
   "source": [
    "def learning_episode(q_matrix, reward, future_rewards=0.5, starting_state=2, verbose=False):\n",
    "    \"\"\"\n",
    "    Start from some random room and move around randomly, figuring out what the reward\n",
    "    for each random step is. Do this until you end up outside of the building. Update\n",
    "    Q along the way to make sure you're learning.\n",
    "    \"\"\"\n",
    "    state = starting_state\n",
    "    while state != 5:\n",
    "        possible_moves = reward[state] >= 0 # this is a true false list of legal moves\n",
    "        legal_moves = np.where(possible_moves)[0] # now we take only legal moves (the [0] selects the legals)\n",
    "        if verbose:\n",
    "            print(legal_moves)\n",
    "        new_state = np.random.choice(legal_moves)\n",
    "        q_matrix = update_robot_brain(q_matrix, future_rewards, state, new_state)\n",
    "        state = new_state\n",
    "    return q_matrix\n",
    "        \n",
    "learning_episode(q_matrix, reward, verbose=True)\n",
    "print('---')\n",
    "learning_episode(q_matrix, reward, verbose=True)"
   ]
  },
  {
   "cell_type": "markdown",
   "metadata": {},
   "source": [
    "Okay, so we have it learning the reward structure for it's actions. Note that right now, there are so many zeros that it's only updating the spots where the next step is a 100. After those start to fill in, the future_rewards will start to fill in smaller values that aren't just \"WE MADE IT TO THE END.\" Now let's let it REALLY learn by setting it to complete tons of episodes, where we randomly initalize where it starts."
   ]
  },
  {
   "cell_type": "code",
   "execution_count": 12,
   "metadata": {
    "ExecuteTime": {
     "end_time": "2018-01-03T18:15:45.650638Z",
     "start_time": "2018-01-03T18:15:44.716653Z"
    }
   },
   "outputs": [
    {
     "data": {
      "text/plain": [
       "array([[   0. ,    0. ,    0. ,    0. ,   50. ,    0. ],\n",
       "       [   0. ,    0. ,    0. ,   25. ,    0. ,  100. ],\n",
       "       [   0. ,    0. ,    0. ,   25. ,    0. ,    0. ],\n",
       "       [   0. ,   50. ,   12.5,    0. ,   50. ,    0. ],\n",
       "       [  25. ,    0. ,    0. ,   25. ,    0. ,  100. ],\n",
       "       [   0. ,    0. ,    0. ,    0. ,    0. ,    0. ]])"
      ]
     },
     "execution_count": 12,
     "metadata": {},
     "output_type": "execute_result"
    }
   ],
   "source": [
    "for episode in range(int(1e4)):\n",
    "    start_state = np.random.randint(6)\n",
    "    q_matrix = learning_episode(q_matrix, reward)\n",
    "    \n",
    "q_matrix"
   ]
  },
  {
   "cell_type": "code",
   "execution_count": 13,
   "metadata": {
    "ExecuteTime": {
     "end_time": "2018-01-03T18:15:45.665953Z",
     "start_time": "2018-01-03T18:15:45.653239Z"
    }
   },
   "outputs": [
    {
     "name": "stdout",
     "output_type": "stream",
     "text": [
      "2\n",
      "3\n",
      "1\n",
      "5\n"
     ]
    }
   ],
   "source": [
    "def take_step(q_matrix, state):\n",
    "    \"\"\"\n",
    "    Figure out which step results in the biggest reward\n",
    "    \"\"\"\n",
    "    return np.argmax(q_matrix[state])\n",
    "\n",
    "def escape_building(q_matrix, state):\n",
    "    \"\"\"\n",
    "    While still in the building, take the rewardiest step from the room \n",
    "    you're in until you escape the building.\n",
    "    \"\"\"\n",
    "    while state != 5:\n",
    "        print(state)\n",
    "        state = take_step(q_matrix, state)\n",
    "    print(state)\n",
    "\n",
    "escape_building(q_matrix, 2)"
   ]
  },
  {
   "cell_type": "code",
   "execution_count": 15,
   "metadata": {
    "ExecuteTime": {
     "end_time": "2018-01-03T18:15:52.121721Z",
     "start_time": "2018-01-03T18:15:51.800312Z"
    }
   },
   "outputs": [
    {
     "data": {
      "image/png": "[encoded data removed]",
      "text/plain": [
       "<matplotlib.figure.Figure at 0x119014320>"
      ]
     },
     "metadata": {},
     "output_type": "display_data"
    }
   ],
   "source": [
    "plt.figure(dpi=150)\n",
    "plt.imshow(q_matrix[:5], cmap=plt.cm.Blues);\n",
    "plt.colorbar();\n",
    "plt.ylabel(\"Current State\")\n",
    "plt.xlabel(\"Next State\")\n",
    "plt.title(\"Transition Strength Between States\");\n",
    "plt.grid(False)"
   ]
  },
  {
   "cell_type": "markdown",
   "metadata": {
    "collapsed": true
   },
   "source": [
    "Now let's make it a bit more complicated. Let's imagine that we have the same floor plan again as a 2nd story. But this time, there are no doors to the outside, but there is a staircase that connects room 0 to the one directly above it. So let's look at the diagram again and build a new rewards matrix.\n",
    "\n",
    "<img src=\"http://mnemstudio.org/ai/path/images/modeling_environment_clip_image002a.gif\">"
   ]
  },
  {
   "cell_type": "markdown",
   "metadata": {},
   "source": [
    "So we'll say room 0 is connected to room 6 by a staircase. Then room 7 is over room 1, room 8 over room 2, room 9 over room 3, room 10 over room 4. All doors are the same, except rooms 7 and 10 can't go outside since they're on the second floor. Let's also say there's a 20 point reward for going down the stairs."
   ]
  },
  {
   "cell_type": "code",
   "execution_count": 16,
   "metadata": {
    "ExecuteTime": {
     "end_time": "2018-01-03T18:25:33.417373Z",
     "start_time": "2018-01-03T18:25:33.396851Z"
    }
   },
   "outputs": [
    {
     "data": {
      "text/plain": [
       "(11, 11)"
      ]
     },
     "execution_count": 16,
     "metadata": {},
     "output_type": "execute_result"
    }
   ],
   "source": [
    "reward = np.array([[-1, -1, -1, -1, 0, -1, 0, -1, -1, -1, -1],\n",
    "                   [-1, -1, -1, 0, -1, 100, -1, -1, -1, -1, -1],\n",
    "                   [-1, -1, -1, 0, -1, -1, -1, -1, -1, -1, -1],\n",
    "                   [-1, 0, 0, -1, 0, -1, -1, -1, -1, -1, -1],\n",
    "                   [0, -1, -1, 0, -1, 100, -1, -1, -1, -1, -1],\n",
    "                   [-1, 0, -1, -1, 0, 100, -1, -1, -1, -1, -1],\n",
    "                   [20, -1, -1, -1, -1, -1, -1, -1, -1, -1, 0],\n",
    "                   [-1, -1, -1, -1, -1, -1, -1, -1, -1, 0, -1],\n",
    "                   [-1, -1, -1, -1, -1, -1, -1, -1, -1, 0, -1],\n",
    "                   [-1, -1, -1, -1, -1, -1, -1, 0, 0, -1, 0],\n",
    "                   [-1, -1, -1, -1, -1, -1, 0, -1, -1, 0, -1]])\n",
    "reward.shape"
   ]
  },
  {
   "cell_type": "code",
   "execution_count": 18,
   "metadata": {
    "ExecuteTime": {
     "end_time": "2018-01-03T18:26:14.852568Z",
     "start_time": "2018-01-03T18:26:14.846726Z"
    }
   },
   "outputs": [
    {
     "data": {
      "text/plain": [
       "array([[0, 0, 0, 0, 0, 0, 0, 0, 0, 0, 0],\n",
       "       [0, 0, 0, 0, 0, 0, 0, 0, 0, 0, 0],\n",
       "       [0, 0, 0, 0, 0, 0, 0, 0, 0, 0, 0],\n",
       "       [0, 0, 0, 0, 0, 0, 0, 0, 0, 0, 0],\n",
       "       [0, 0, 0, 0, 0, 0, 0, 0, 0, 0, 0],\n",
       "       [0, 0, 0, 0, 0, 0, 0, 0, 0, 0, 0],\n",
       "       [0, 0, 0, 0, 0, 0, 0, 0, 0, 0, 0],\n",
       "       [0, 0, 0, 0, 0, 0, 0, 0, 0, 0, 0],\n",
       "       [0, 0, 0, 0, 0, 0, 0, 0, 0, 0, 0],\n",
       "       [0, 0, 0, 0, 0, 0, 0, 0, 0, 0, 0],\n",
       "       [0, 0, 0, 0, 0, 0, 0, 0, 0, 0, 0]])"
      ]
     },
     "execution_count": 18,
     "metadata": {},
     "output_type": "execute_result"
    }
   ],
   "source": [
    "q_matrix = np.zeros_like(reward)\n",
    "q_matrix"
   ]
  },
  {
   "cell_type": "code",
   "execution_count": 19,
   "metadata": {
    "ExecuteTime": {
     "end_time": "2018-01-03T18:26:35.507561Z",
     "start_time": "2018-01-03T18:26:33.750252Z"
    }
   },
   "outputs": [
    {
     "data": {
      "text/plain": [
       "array([[  0,   0,   0,   0,  50,   0,  22,   0,   0,   0,   0],\n",
       "       [  0,   0,   0,  25,   0, 100,   0,   0,   0,   0,   0],\n",
       "       [  0,   0,   0,  25,   0,   0,   0,   0,   0,   0,   0],\n",
       "       [  0,  50,  12,   0,  50,   0,   0,   0,   0,   0,   0],\n",
       "       [ 25,   0,   0,  25,   0, 100,   0,   0,   0,   0,   0],\n",
       "       [  0,   0,   0,   0,   0,   0,   0,   0,   0,   0,   0],\n",
       "       [ 45,   0,   0,   0,   0,   0,   0,   0,   0,   0,  11],\n",
       "       [  0,   0,   0,   0,   0,   0,   0,   0,   0,   5,   0],\n",
       "       [  0,   0,   0,   0,   0,   0,   0,   0,   0,   5,   0],\n",
       "       [  0,   0,   0,   0,   0,   0,   0,   2,   2,   0,  11],\n",
       "       [  0,   0,   0,   0,   0,   0,  22,   0,   0,   5,   0]])"
      ]
     },
     "execution_count": 19,
     "metadata": {},
     "output_type": "execute_result"
    }
   ],
   "source": [
    "for episode in range(int(1e4)):\n",
    "    start_state = np.random.randint(6)\n",
    "    q_matrix = learning_episode(q_matrix, reward)\n",
    "    \n",
    "q_matrix"
   ]
  },
  {
   "cell_type": "markdown",
   "metadata": {},
   "source": [
    "Let's update our building escape to make a note of when we go downstairs!"
   ]
  },
  {
   "cell_type": "code",
   "execution_count": 24,
   "metadata": {
    "ExecuteTime": {
     "end_time": "2018-01-03T18:29:24.477415Z",
     "start_time": "2018-01-03T18:29:24.470767Z"
    },
    "collapsed": true
   },
   "outputs": [],
   "source": [
    "def escape_building(q_matrix, state):\n",
    "    \"\"\"\n",
    "    While still in the building, take the rewardiest step from the room \n",
    "    you're in until you escape the building.\n",
    "    \"\"\"\n",
    "    while state != 5:\n",
    "        print(state)\n",
    "        old_state = state\n",
    "        state = take_step(q_matrix, state)\n",
    "        if old_state == 6 and state == 0:\n",
    "            print(\"---DOWNSTAIRS---\")\n",
    "    print(state)"
   ]
  },
  {
   "cell_type": "code",
   "execution_count": 25,
   "metadata": {
    "ExecuteTime": {
     "end_time": "2018-01-03T18:29:25.375944Z",
     "start_time": "2018-01-03T18:29:25.368887Z"
    }
   },
   "outputs": [
    {
     "name": "stdout",
     "output_type": "stream",
     "text": [
      "8\n",
      "9\n",
      "10\n",
      "6\n",
      "---DOWNSTAIRS---\n",
      "0\n",
      "4\n",
      "5\n"
     ]
    }
   ],
   "source": [
    "escape_building(q_matrix, 8)"
   ]
  },
  {
   "cell_type": "code",
   "execution_count": 26,
   "metadata": {
    "ExecuteTime": {
     "end_time": "2018-01-03T18:29:34.155985Z",
     "start_time": "2018-01-03T18:29:34.147816Z"
    }
   },
   "outputs": [
    {
     "name": "stdout",
     "output_type": "stream",
     "text": [
      "7\n",
      "9\n",
      "10\n",
      "6\n",
      "---DOWNSTAIRS---\n",
      "0\n",
      "4\n",
      "5\n"
     ]
    }
   ],
   "source": [
    "escape_building(q_matrix, 7)"
   ]
  },
  {
   "cell_type": "code",
   "execution_count": 33,
   "metadata": {
    "ExecuteTime": {
     "end_time": "2018-01-03T18:32:09.441190Z",
     "start_time": "2018-01-03T18:32:09.100012Z"
    }
   },
   "outputs": [
    {
     "data": {
      "image/png": "[encoded data removed]",
      "text/plain": [
       "<matplotlib.figure.Figure at 0x119014588>"
      ]
     },
     "metadata": {},
     "output_type": "display_data"
    }
   ],
   "source": [
    "plt.figure(dpi=150)\n",
    "plt.imshow(q_matrix, cmap=plt.cm.Blues);\n",
    "plt.colorbar();\n",
    "plt.ylabel(\"Current State\")\n",
    "plt.xlabel(\"Next State\")\n",
    "plt.title(\"Transition Strength Between States\");\n",
    "plt.grid(False)\n",
    "plt.plot([-0.5,10.5],[5.5,5.5],'r', lw=0.5, label=\"Up/Down Seperator\")\n",
    "plt.plot([5.5,5.5],[-0.5,10.5],'r', lw=0.5);\n",
    "plt.legend(loc=\"lower left\");"
   ]
  },
  {
   "cell_type": "code",
   "execution_count": null,
   "metadata": {
    "collapsed": true
   },
   "outputs": [],
   "source": []
  }
 ],
 "metadata": {
  "kernelspec": {
   "display_name": "Python [default]",
   "language": "python",
   "name": "python3"
  },
  "language_info": {
   "codemirror_mode": {
    "name": "ipython",
    "version": 3
   },
   "file_extension": ".py",
   "mimetype": "text/x-python",
   "name": "python",
   "nbconvert_exporter": "python",
   "pygments_lexer": "ipython3",
   "version": "3.6.2"
  },
  "toc": {
   "nav_menu": {},
   "number_sections": true,
   "sideBar": true,
   "skip_h1_title": false,
   "toc_cell": false,
   "toc_position": {},
   "toc_section_display": "block",
   "toc_window_display": false
  }
 },
 "nbformat": 4,
 "nbformat_minor": 2
}
